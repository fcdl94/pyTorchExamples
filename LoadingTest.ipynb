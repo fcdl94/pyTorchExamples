{
 "cells": [
  {
   "cell_type": "code",
   "execution_count": 1,
   "metadata": {},
   "outputs": [],
   "source": [
    "%matplotlib inline\n",
    "\n",
    "import torch\n",
    "\n",
    "from torch.autograd import Variable\n",
    "\n",
    "import torch.nn as nn\n",
    "import torch.nn.functional as F\n",
    "\n",
    "import torch.optim as optim\n",
    "\n",
    "import torchvision\n",
    "import torchvision.transforms as transforms\n",
    "\n",
    "import matplotlib.pyplot as plt\n",
    "import numpy as np\n",
    "\n",
    "import time"
   ]
  },
  {
   "cell_type": "code",
   "execution_count": 11,
   "metadata": {},
   "outputs": [],
   "source": [
    "class Model1(nn.Module):\n",
    "    def __init__(self):\n",
    "        super(Model1, self).__init__()\n",
    "        self.conv1 = nn.Conv2d(1, 10, 3, padding=1)\n",
    "        #self.conv2 = nn.Conv2d(10, 10, 3, padding=1)\n",
    "        self.fc1 = nn.Linear(14*14*10, 20)\n",
    "        self.fc2 = nn.Linear(20, 10)\n",
    "    \n",
    "    def forward(self, x):\n",
    "        #x = F.relu(self.conv1(x))\n",
    "        x = F.max_pool2d(F.relu(self.conv1(x)), 2)\n",
    "        x = x.view(-1, 14*14*10)\n",
    "        x = F.relu(self.fc1(x))\n",
    "        x = self.fc2(x)\n",
    "        return x\n",
    "    \n",
    "model2 = torch.load('MNISTModel/model1.pt')\n",
    "model1 = Model1()"
   ]
  },
  {
   "cell_type": "code",
   "execution_count": 8,
   "metadata": {},
   "outputs": [],
   "source": [
    "BATCH_SIZE = 4\n",
    "\n",
    "# torchvision.datasets.MNIST outputs a set of PIL images\n",
    "# We transform them to tensors\n",
    "transform = transforms.ToTensor()\n",
    "\n",
    "# Load and transform data\n",
    "trainset = torchvision.datasets.MNIST('./mnist',\n",
    "                train=True, download=True, transform=transform)\n",
    "trainloader = torch.utils.data.DataLoader(trainset,\n",
    "                batch_size=BATCH_SIZE, shuffle=True, num_workers=2)\n",
    "\n",
    "train_size = len(trainset)\n",
    "\n",
    "testset = torchvision.datasets.MNIST('./mnist',\n",
    "               train=False, download=True, transform=transform)\n",
    "testloader = torch.utils.data.DataLoader(testset,\n",
    "                batch_size=BATCH_SIZE, shuffle=False, num_workers=2)\n",
    "test_size = len(testset)\n",
    "\n",
    "def sample_result(model) :\n",
    "    dataiter = iter(trainloader)\n",
    "    images, labels = dataiter.next()\n",
    "    \n",
    "    output = model(images)\n",
    "    _, pred = torch.max(output, 1)\n",
    "    \n",
    "    print('Labels: ', labels.numpy())\n",
    "    print('Predic: ', pred.numpy())\n",
    "    ##print('Batch shape: ', images.size())\n",
    "    im = torchvision.utils.make_grid(images)\n",
    "    plt.imshow(np.transpose(im.numpy(), (1, 2, 0)))"
   ]
  },
  {
   "cell_type": "code",
   "execution_count": 36,
   "metadata": {},
   "outputs": [],
   "source": [
    "def compute_accuracy(model):\n",
    "    total = correct = 0\n",
    "    with torch.no_grad():\n",
    "        for inputs, labels in testloader:\n",
    "            outputs = model(inputs)\n",
    "            _, pred = torch.max(outputs.data, 1)\n",
    "\n",
    "            total += labels.size(0)\n",
    "            correct += (labels == pred).sum().item()\n",
    "            #print(correct)\n",
    "            \n",
    "    return 100 * correct / total"
   ]
  },
  {
   "cell_type": "code",
   "execution_count": 37,
   "metadata": {},
   "outputs": [
    {
     "name": "stdout",
     "output_type": "stream",
     "text": [
      "97.4\n"
     ]
    }
   ],
   "source": [
    "print(compute_accuracy(model2))"
   ]
  },
  {
   "cell_type": "code",
   "execution_count": 39,
   "metadata": {},
   "outputs": [
    {
     "name": "stdout",
     "output_type": "stream",
     "text": [
      "Labels:  [4 7 4 0]\n",
      "Predic:  [4 7 4 0]\n"
     ]
    },
    {
     "data": {
      "image/png": "[encoded data removed]",
      "text/plain": [
       "<Figure size 432x288 with 1 Axes>"
      ]
     },
     "metadata": {},
     "output_type": "display_data"
    }
   ],
   "source": [
    "sample_result(model2)"
   ]
  },
  {
   "cell_type": "code",
   "execution_count": null,
   "metadata": {},
   "outputs": [],
   "source": []
  }
 ],
 "metadata": {
  "kernelspec": {
   "display_name": "Python 3",
   "language": "python",
   "name": "python3"
  },
  "language_info": {
   "codemirror_mode": {
    "name": "ipython",
    "version": 3
   },
   "file_extension": ".py",
   "mimetype": "text/x-python",
   "name": "python",
   "nbconvert_exporter": "python",
   "pygments_lexer": "ipython3",
   "version": "3.6.5"
  }
 },
 "nbformat": 4,
 "nbformat_minor": 2
}
