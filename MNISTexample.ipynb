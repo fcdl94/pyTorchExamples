{
 "cells": [
  {
   "cell_type": "code",
   "execution_count": 17,
   "metadata": {},
   "outputs": [],
   "source": [
    "%matplotlib inline\n",
    "\n",
    "import torch\n",
    "\n",
    "from torch.autograd import Variable\n",
    "\n",
    "import torch.nn as nn\n",
    "import torch.nn.functional as F\n",
    "\n",
    "import torch.optim as optim\n",
    "\n",
    "import torchvision\n",
    "import torchvision.transforms as transforms\n",
    "\n",
    "import matplotlib.pyplot as plt\n",
    "import numpy as np\n",
    "\n",
    "import time\n",
    "\n",
    "device = torch.device(\"cuda:0\" if torch.cuda.is_available() else \"cpu\")\n"
   ]
  },
  {
   "cell_type": "code",
   "execution_count": 18,
   "metadata": {},
   "outputs": [],
   "source": [
    "BATCH_SIZE = 4\n",
    "\n",
    "# torchvision.datasets.MNIST outputs a set of PIL images\n",
    "# We transform them to tensors\n",
    "transform = transforms.ToTensor()\n",
    "\n",
    "# Load and transform data\n",
    "trainset = torchvision.datasets.MNIST('./mnist',\n",
    "                train=True, download=True, transform=transform)\n",
    "trainloader = torch.utils.data.DataLoader(trainset,\n",
    "                batch_size=BATCH_SIZE, shuffle=True, num_workers=2)\n",
    "\n",
    "train_size = len(trainset)\n",
    "\n",
    "testset = torchvision.datasets.MNIST('./mnist',\n",
    "               train=False, download=True, transform=transform)\n",
    "testloader = torch.utils.data.DataLoader(testset,\n",
    "                batch_size=BATCH_SIZE, shuffle=False, num_workers=2)\n",
    "test_size = len(testset)"
   ]
  },
  {
   "cell_type": "code",
   "execution_count": 19,
   "metadata": {},
   "outputs": [],
   "source": [
    "def show_batch(batch):\n",
    "    im = torchvision.utils.make_grid(batch)\n",
    "    plt.imshow(np.transpose(im.numpy(), (1, 2, 0)))"
   ]
  },
  {
   "cell_type": "code",
   "execution_count": 35,
   "metadata": {},
   "outputs": [],
   "source": [
    "def sample_result(model) :\n",
    "    model.to(device)\n",
    "    dataiter = iter(trainloader)\n",
    "    images, labels = dataiter.next()\n",
    "    images, labels = images.to(device), labels.to(device)\n",
    "    output = model(images)\n",
    "    _, pred = torch.max(output, 1)\n",
    "    \n",
    "    print('Labels: ', labels.cpu().numpy())\n",
    "    print('Predic: ', pred.cpu().numpy())\n",
    "    ##print('Batch shape: ', images.size())\n",
    "    show_batch(images.cpu())\n"
   ]
  },
  {
   "cell_type": "code",
   "execution_count": 21,
   "metadata": {},
   "outputs": [],
   "source": [
    "# Multi Scheduler\n",
    "#https://discuss.pytorch.org/t/two-optimizers-for-one-model/11085/6\n",
    "class MultipleScheduler(object):\n",
    "    def __init__(self, *op):\n",
    "        self.optimizers = op\n",
    "\n",
    "    def zero_grad(self):\n",
    "        for op in self.optimizers:\n",
    "            op.zero_grad()\n",
    "\n",
    "    def step(self):\n",
    "        for op in self.optimizers:\n",
    "            op.step()\n"
   ]
  },
  {
   "cell_type": "code",
   "execution_count": 22,
   "metadata": {},
   "outputs": [
    {
     "name": "stdout",
     "output_type": "stream",
     "text": [
      "Number of parameters: 39530\n"
     ]
    }
   ],
   "source": [
    "#Basic Model\n",
    "class Model1(nn.Module):\n",
    "    def __init__(self):\n",
    "        super(Model1, self).__init__()\n",
    "        self.conv1 = nn.Conv2d(1, 10, 3, padding=1)\n",
    "        #self.conv2 = nn.Conv2d(10, 10, 3, padding=1)\n",
    "        self.fc1 = nn.Linear(14*14*10, 20)\n",
    "        self.fc2 = nn.Linear(20, 10)\n",
    "    \n",
    "    def forward(self, x):\n",
    "        #x = F.relu(self.conv1(x))\n",
    "        x = F.max_pool2d(F.relu(self.conv1(x)), 2)\n",
    "        x = x.view(-1, 14*14*10)\n",
    "        x = F.relu(self.fc1(x))\n",
    "        x = self.fc2(x)\n",
    "        return x\n",
    "    \n",
    "model1 = Model1()\n",
    "criterion1 = nn.CrossEntropyLoss()\n",
    "optimizer1 = optim.Adam(model1.parameters())\n",
    "\n",
    "params = 0\n",
    "for arr in model1.parameters():\n",
    "    #print(arr.size())\n",
    "    pX = 1\n",
    "    for x in arr.size():\n",
    "        pX *= x\n",
    "    params += pX\n",
    "print(\"Number of parameters: \" + str(params))\n"
   ]
  },
  {
   "cell_type": "code",
   "execution_count": 23,
   "metadata": {},
   "outputs": [],
   "source": [
    "#Model that illustrate how to keep frozen weights while training\n",
    "class Model2(nn.Module):\n",
    "    def __init__(self):\n",
    "        super(Model2, self).__init__()\n",
    "        self.conv1 = nn.Conv2d(1, 10, 3, padding=1)\n",
    "        #self.conv2 = nn.Conv2d(10, 10, 3, padding=1)\n",
    "        self.fc1 = nn.Linear(14*14*10, 20)\n",
    "        self.fc2 = nn.Linear(20, 10)\n",
    "        self.fc3 = nn.Linear(10,10) \n",
    "    \n",
    "    def forward(self, x):\n",
    "        #x = F.relu(self.conv1(x))\n",
    "        x = F.max_pool2d(F.relu(self.conv1(x)), 2)\n",
    "        x = x.view(-1, 14*14*10)\n",
    "        x = F.relu(self.fc1(x))\n",
    "        x = self.fc2(x)\n",
    "        return x\n",
    "    \n",
    "m2 = Model2()\n",
    "criterion2 = nn.CrossEntropyLoss()\n",
    "#MODO1 https://discuss.pytorch.org/t/how-to-perform-finetuning-in-pytorch/419/8?u=fcdl94\n",
    "#In this way you can set different lr for each set of params\n",
    "optimizer2 = optim.Adam( [ {\"params\": m2.conv1.parameters(), 'lr': 0.01}, {\"params\": m2.fc1.parameters()}], lr= 0.1)\n",
    "\n",
    "#MODO2 -> suggested method to freeze only some layer here:\n",
    "#  https://pytorch.org/docs/master/notes/autograd.html#excluding-subgraphs-from-backward\n",
    "#optimizer = optim.Adam(m2.parameters())\n",
    "#for param in m2.conv1.parameters():\n",
    "#    param.requires_grad = False\n"
   ]
  },
  {
   "cell_type": "code",
   "execution_count": 24,
   "metadata": {},
   "outputs": [],
   "source": [
    "#Model that illustrate how to keep frozen weights while training\n",
    "class Model2BIS(nn.Module):\n",
    "    def __init__(self):\n",
    "        super(Model2BIS, self).__init__()\n",
    "        self.conv1 = nn.Conv2d(1, 10, 3, padding=1)\n",
    "        #self.conv2 = nn.Conv2d(10, 10, 3, padding=1)\n",
    "        self.fc1 = nn.Linear(14*14*10, 20)\n",
    "        self.fc2 = nn.Linear(20, 10)\n",
    "        self.fc3 = nn.Linear(10,10) \n",
    "    \n",
    "    def forward(self, x):\n",
    "        #x = F.relu(self.conv1(x))\n",
    "        x = F.max_pool2d(F.relu(self.conv1(x)), 2)\n",
    "        x = x.view(-1, 14*14*10)\n",
    "        x = F.relu(self.fc1(x))\n",
    "        x = self.fc2(x)\n",
    "        return x\n",
    "    \n",
    "m2 = Model2()\n",
    "criterion2 = nn.CrossEntropyLoss()\n",
    "#MODO1 https://discuss.pytorch.org/t/how-to-perform-finetuning-in-pytorch/419/8?u=fcdl94\n",
    "#In this way you can set different lr for each set of params\n",
    "ignored_params = list(map(id, m2.fc3.parameters()))\n",
    "base_params = filter(lambda p: id(p) not in ignored_params, m2.parameters())\n",
    "\n",
    "optimizer2A = torch.optim.SGD(base_params, lr=0.1, momentum=0.9)\n",
    "optimizer2B = torch.optim.SGD(m2.fc3.parameters(), lr=0, momentum=0)\n",
    "scheduler2A = torch.optim.lr_scheduler.StepLR(optimizer2A, 2)\n",
    "scheduler2B = torch.optim.lr_scheduler.StepLR(optimizer2B, 2)\n",
    "scheduler = MultipleScheduler(optimizer2A,optimizer2B)\n",
    "optimizer2 = scheduler\n",
    "\n"
   ]
  },
  {
   "cell_type": "code",
   "execution_count": 25,
   "metadata": {},
   "outputs": [],
   "source": [
    "##Model with list module\n",
    "class Model3(nn.Module):\n",
    "    def __init__(self):\n",
    "        super(Model3, self).__init__()\n",
    "        self.conv1 = nn.Conv2d(1, 10, 3, padding=1)\n",
    "        #self.conv2 = nn.Conv2d(10, 10, 3, padding=1)\n",
    "        self.fc1 = nn.Linear(14*14*10, 20)\n",
    "        self.fc2 = nn.Linear(20, 10)\n",
    "        self.fc3 = nn.ModuleList([nn.Linear(10,10), nn.Linear(10,10)])\n",
    "        self.index = 0;\n",
    "    \n",
    "    def set_index(self, index ):\n",
    "        if(index >= 0 and index <= 1):\n",
    "            self.index = index\n",
    "    \n",
    "    def forward(self, x):\n",
    "        #x = F.relu(self.conv1(x))\n",
    "        x = F.max_pool2d(F.relu(self.conv1(x)), 2)\n",
    "        x = x.view(-1, 14*14*10)\n",
    "        x = F.relu(self.fc1(x))\n",
    "        x = self.fc2(x)\n",
    "        x = self.fc3[self.index](x)\n",
    "        return x\n",
    "    \n",
    "model3= Model3()\n",
    "criterion3 = nn.CrossEntropyLoss()\n",
    "\n",
    "optimizer3 = optim.Adam(model3.parameters())\n",
    "\n"
   ]
  },
  {
   "cell_type": "code",
   "execution_count": 26,
   "metadata": {},
   "outputs": [],
   "source": [
    "#Model with block module\n",
    "class Model4(nn.Module):\n",
    "    def __init__(self):\n",
    "        super(Model4, self).__init__()\n",
    "        self.conv1 = nn.Conv2d(1, 10, 3, padding=1)\n",
    "        self.fcs = nn.Sequential(\n",
    "            nn.Linear(14*14*10, 20),\n",
    "            nn.ReLU(inplace=True),\n",
    "            nn.Linear(20, 10)\n",
    "        )\n",
    "        #for param in self.conv1.parameters():\n",
    "        #    param.requires_grad = False\n",
    "    \n",
    "    def forward(self, x):\n",
    "        #x = F.relu(self.conv1(x))\n",
    "        x = F.max_pool2d(F.relu(self.conv1(x)), 2)\n",
    "        x = x.view(-1, 14*14*10)\n",
    "        x = self.fcs(x)\n",
    "        return x\n",
    "    \n",
    "model4 = Model4()\n",
    "criterion4 = nn.CrossEntropyLoss()\n",
    "\n",
    "#optimizer4 = optim.Adam(filter( lambda p : p.requires_grad == True, model4.parameters()))\n",
    "optimizer4 = optim.Adam(model4.fcs.parameters()) #this also works (without setting to False the requires_grads)\n"
   ]
  },
  {
   "cell_type": "code",
   "execution_count": 27,
   "metadata": {},
   "outputs": [],
   "source": [
    "#Basic Model\n",
    "class Model5(nn.Module):\n",
    "    def __init__(self):\n",
    "        super(Model5, self).__init__()\n",
    "        self.c1 = nn.Conv2d(1, 10, 3, padding=1)\n",
    "        self.f1 = nn.Linear(14*14*10, 20)\n",
    "        self.f2 = nn.Linear(20, 10)\n",
    "    \n",
    "    def forward(self, x):\n",
    "        x = F.max_pool2d(F.relu(self.c1(x)), 2)\n",
    "        x = x.view(-1, 14*14*10)\n",
    "        x = F.relu(self.f1(x))\n",
    "        x = self.f2(x)\n",
    "        return x\n",
    "    \n",
    "model5 = Model5()\n",
    "criterion5 = nn.CrossEntropyLoss()\n",
    "optimizer5 = optim.Adam(model1.parameters())\n"
   ]
  },
  {
   "cell_type": "code",
   "execution_count": 28,
   "metadata": {},
   "outputs": [],
   "source": [
    "def train(model, optimizer, criterion, epochs=5):\n",
    "    model.to(device)\n",
    "\n",
    "    since = time.time()\n",
    "    for epoch in range(0, epochs):\n",
    "        print('Epoch {}/{}'.format(epoch, epochs - 1))\n",
    "        print('-' * 10)\n",
    "        # Each epoch has a training and validation phase\n",
    "        for phase in ['train', 'val']:\n",
    "            if phase == 'train':\n",
    "                model.train()  # Set model to training mode\n",
    "                dataloader = trainloader\n",
    "                dataset_size = train_size\n",
    "            else:\n",
    "                model.eval()   # Set model to evaluate mode\n",
    "                dataloader = testloader\n",
    "                dataset_size = test_size\n",
    "            \n",
    "            running_loss = 0.0\n",
    "            running_corrects = 0\n",
    "              # Iterate over data.\n",
    "            for inputs, labels in dataloader:\n",
    "                #to GPU\n",
    "                inputs, labels = inputs.to(device), labels.to(device)\n",
    "                # zero the parameter gradients\n",
    "                optimizer.zero_grad()\n",
    "\n",
    "                # forward\n",
    "                # track history if only in train\n",
    "                with torch.set_grad_enabled(phase == 'train'):\n",
    "                    outputs = model(inputs)\n",
    "                    _, preds = torch.max(outputs, 1)\n",
    "                    loss = criterion(outputs, labels)\n",
    "\n",
    "                    # backward + optimize only if in training phase\n",
    "                    if phase == 'train':\n",
    "                        loss.backward()\n",
    "                        optimizer.step()\n",
    "\n",
    "                # statistics\n",
    "                running_loss += loss.item() * inputs.size(0)\n",
    "                running_corrects += torch.sum(preds == labels.data)\n",
    "\n",
    "            epoch_loss = running_loss / dataset_size\n",
    "            epoch_acc = running_corrects.double() / dataset_size\n",
    "\n",
    "            print('{} Loss: {:.4f} Acc: {:.4f}'.format(\n",
    "                phase, epoch_loss, epoch_acc))\n",
    "\n",
    "    time_elapsed = time.time() - since\n",
    "    print('Training complete in {:.0f}m {:.0f}s'.format(\n",
    "        time_elapsed // 60, time_elapsed % 60))\n",
    "    \n",
    "    return model\n",
    "    "
   ]
  },
  {
   "cell_type": "code",
   "execution_count": 29,
   "metadata": {},
   "outputs": [],
   "source": [
    "def compute_accuracy(model):\n",
    "    correct = 0\n",
    "    total = 0\n",
    "    with torch.no_grad():\n",
    "        for data in  testloader:\n",
    "            images, labels = data\n",
    "            outputs = model(images)\n",
    "            _, predicted = torch.max(outputs.data, 1)\n",
    "            total += labels.size(0)\n",
    "            correct += (predicted == labels).sum().item()\n",
    "\n",
    "    return 100 * correct / total"
   ]
  },
  {
   "cell_type": "code",
   "execution_count": 8,
   "metadata": {
    "collapsed": true
   },
   "outputs": [
    {
     "data": {
      "text/plain": [
       "Model1(\n",
       "  (conv1): Conv2d(1, 10, kernel_size=(3, 3), stride=(1, 1), padding=(1, 1))\n",
       "  (fc1): Linear(in_features=1960, out_features=20, bias=True)\n",
       "  (fc2): Linear(in_features=20, out_features=10, bias=True)\n",
       ")"
      ]
     },
     "execution_count": 8,
     "metadata": {},
     "output_type": "execute_result"
    }
   ],
   "source": [
    "#torch.save(model1.state_dict(),'MNISTModel/modelSD1.pt' )\n",
    "#st_dict = torch.load('MNISTModel/modelSD1.pt')"
   ]
  },
  {
   "cell_type": "code",
   "execution_count": 9,
   "metadata": {
    "scrolled": false
   },
   "outputs": [],
   "source": [
    "#model3.set_index(0)\n",
    "#train(model3, optimizer, criterion, 1)\n",
    "#model3.set_index(0)\n",
    "#sample_result(model3)\n"
   ]
  },
  {
   "cell_type": "code",
   "execution_count": 10,
   "metadata": {},
   "outputs": [
    {
     "data": {
      "text/plain": [
       "odict_keys(['conv1.weight', 'conv1.bias', 'fcs.0.weight', 'fcs.0.bias', 'fcs.2.weight', 'fcs.2.bias'])"
      ]
     },
     "execution_count": 10,
     "metadata": {},
     "output_type": "execute_result"
    }
   ],
   "source": [
    "#model4.state_dict().keys()\n",
    "#model4.conv1.load_state_dict(torch.load(\"MNISTModel/modelSD1.pt\"), False)"
   ]
  },
  {
   "cell_type": "code",
   "execution_count": 11,
   "metadata": {},
   "outputs": [
    {
     "name": "stdout",
     "output_type": "stream",
     "text": [
      "Conv1.requires_grad = True\n",
      "Epoch 0/0\n",
      "----------\n",
      "train Loss: 0.3871 Acc: 0.8842\n",
      "val Loss: 0.2753 Acc: 0.9177\n",
      "Training complete in 3m 19s\n",
      "Labels:  [7 8 2 1]\n",
      "Predic:  [7 8 2 1]\n",
      "Conv1.equals= True\n",
      "fcs.equals= False\n"
     ]
    },
    {
     "data": {
      "image/png": "[encoded data removed]",
      "text/plain": [
       "<Figure size 432x288 with 1 Axes>"
      ]
     },
     "metadata": {},
     "output_type": "display_data"
    }
   ],
   "source": [
    "#Proof of working of method 2 (exclude from Optim. the freezing parameters)\n",
    "print(\"Conv1.requires_grad = \" + str(list(model4.conv1.parameters())[0].requires_grad))\n",
    "\n",
    "torch.save(model4.fcs.state_dict(), \"Model4BT.fcs.pt\" )\n",
    "torch.save(model4.conv1.state_dict(), \"Model4BT.conv1.pt\" )\n",
    "train(model4, optimizer4, criterion4, 1) #TRAIN\n",
    "sample_result(model4)                   #show results\n",
    "torch.save(model4.fcs.state_dict(), \"Model4AT.fcs.pt\" )\n",
    "torch.save(model4.conv1.state_dict(), \"Model4AT.conv1.pt\" )\n",
    "\n",
    "conv1_BT = torch.load(\"Model4BT.conv1.pt\")['weight']\n",
    "conv1_AT = torch.load(\"Model4AT.conv1.pt\")['weight']\n",
    "print(\"Conv1.equals= \" + str(torch.equal(conv1_BT,conv1_AT))) #returns True\n",
    "\n",
    "fcs_BT = torch.load(\"Model4BT.fcs.pt\")['0.weight']\n",
    "fcs_AT = torch.load(\"Model4AT.fcs.pt\")['0.weight']\n",
    "print(\"fcs.equals= \" + str(torch.equal(fcs_BT,fcs_AT))) #returns False\n"
   ]
  },
  {
   "cell_type": "code",
   "execution_count": 16,
   "metadata": {},
   "outputs": [
    {
     "name": "stdout",
     "output_type": "stream",
     "text": [
      "Epoch 0/4\n",
      "----------\n",
      "train Loss: 2.3562 Acc: 0.1017\n",
      "val Loss: 2.3134 Acc: 0.0958\n",
      "Epoch 1/4\n",
      "----------\n",
      "train Loss: 2.3578 Acc: 0.1026\n",
      "val Loss: 2.3247 Acc: 0.1009\n",
      "Epoch 2/4\n",
      "----------\n",
      "train Loss: 2.3578 Acc: 0.1019\n",
      "val Loss: 2.3475 Acc: 0.1135\n",
      "Epoch 3/4\n",
      "----------\n",
      "train Loss: 2.3597 Acc: 0.0998\n",
      "val Loss: 2.4106 Acc: 0.1032\n",
      "Epoch 4/4\n",
      "----------\n",
      "train Loss: 2.3590 Acc: 0.1001\n",
      "val Loss: 2.3382 Acc: 0.1010\n",
      "Training complete in 2m 23s\n"
     ]
    },
    {
     "ename": "NameError",
     "evalue": "name 'sample_result' is not defined",
     "output_type": "error",
     "traceback": [
      "\u001b[0;31m---------------------------------------------------------------------------\u001b[0m",
      "\u001b[0;31mNameError\u001b[0m                                 Traceback (most recent call last)",
      "\u001b[0;32m<ipython-input-16-6e1b4e6d8dfb>\u001b[0m in \u001b[0;36m<module>\u001b[0;34m()\u001b[0m\n\u001b[1;32m      2\u001b[0m \u001b[0mtorch\u001b[0m\u001b[0;34m.\u001b[0m\u001b[0msave\u001b[0m\u001b[0;34m(\u001b[0m\u001b[0mm2\u001b[0m\u001b[0;34m.\u001b[0m\u001b[0mfc1\u001b[0m\u001b[0;34m.\u001b[0m\u001b[0mstate_dict\u001b[0m\u001b[0;34m(\u001b[0m\u001b[0;34m)\u001b[0m\u001b[0;34m,\u001b[0m \u001b[0;34m\"Model2BT.fc1.pt\"\u001b[0m \u001b[0;34m)\u001b[0m\u001b[0;34m\u001b[0m\u001b[0m\n\u001b[1;32m      3\u001b[0m \u001b[0mtrain\u001b[0m\u001b[0;34m(\u001b[0m\u001b[0mm2\u001b[0m\u001b[0;34m,\u001b[0m \u001b[0moptimizer2\u001b[0m\u001b[0;34m,\u001b[0m \u001b[0mcriterion2\u001b[0m\u001b[0;34m,\u001b[0m \u001b[0;36m5\u001b[0m\u001b[0;34m)\u001b[0m \u001b[0;31m#TRAIN\u001b[0m\u001b[0;34m\u001b[0m\u001b[0m\n\u001b[0;32m----> 4\u001b[0;31m \u001b[0msample_result\u001b[0m\u001b[0;34m(\u001b[0m\u001b[0mm2\u001b[0m\u001b[0;34m)\u001b[0m                   \u001b[0;31m#show results\u001b[0m\u001b[0;34m\u001b[0m\u001b[0m\n\u001b[0m\u001b[1;32m      5\u001b[0m \u001b[0mtorch\u001b[0m\u001b[0;34m.\u001b[0m\u001b[0msave\u001b[0m\u001b[0;34m(\u001b[0m\u001b[0mm2\u001b[0m\u001b[0;34m.\u001b[0m\u001b[0mfc3\u001b[0m\u001b[0;34m.\u001b[0m\u001b[0mstate_dict\u001b[0m\u001b[0;34m(\u001b[0m\u001b[0;34m)\u001b[0m\u001b[0;34m,\u001b[0m \u001b[0;34m\"Model2AT.fc3.pt\"\u001b[0m \u001b[0;34m)\u001b[0m\u001b[0;34m\u001b[0m\u001b[0m\n\u001b[1;32m      6\u001b[0m \u001b[0mtorch\u001b[0m\u001b[0;34m.\u001b[0m\u001b[0msave\u001b[0m\u001b[0;34m(\u001b[0m\u001b[0mm2\u001b[0m\u001b[0;34m.\u001b[0m\u001b[0mfc1\u001b[0m\u001b[0;34m.\u001b[0m\u001b[0mstate_dict\u001b[0m\u001b[0;34m(\u001b[0m\u001b[0;34m)\u001b[0m\u001b[0;34m,\u001b[0m \u001b[0;34m\"Model2AT.fc1.pt\"\u001b[0m \u001b[0;34m)\u001b[0m\u001b[0;34m\u001b[0m\u001b[0m\n",
      "\u001b[0;31mNameError\u001b[0m: name 'sample_result' is not defined"
     ]
    }
   ],
   "source": [
    "torch.save(m2.fc3.state_dict(), \"Model2BT.fc3.pt\" )\n",
    "torch.save(m2.fc1.state_dict(), \"Model2BT.fc1.pt\" )\n",
    "train(m2, optimizer2, criterion2, 5) #TRAIN\n",
    "sample_result(m2)                   #show results\n",
    "torch.save(m2.fc3.state_dict(), \"Model2AT.fc3.pt\" )\n",
    "torch.save(m2.fc1.state_dict(), \"Model2AT.fc1.pt\" )\n",
    "\n",
    "fc3_BT = torch.load(\"Model2BT.fc3.pt\")['weight']\n",
    "fc3_AT = torch.load(\"Model2AT.fc3.pt\")['weight']\n",
    "print(\"fc3.equals= \" + str(torch.equal(fc3_BT,fc3_AT))) #returns True\n",
    "\n",
    "fcs_BT = torch.load(\"Model2BT.fc1.pt\")['weight']\n",
    "fcs_AT = torch.load(\"Model2AT.fc1.pt\")['weight']\n",
    "print(\"fc2.equals= \" + str(torch.equal(fcs_BT,fcs_AT))) #returns False"
   ]
  },
  {
   "cell_type": "code",
   "execution_count": 124,
   "metadata": {},
   "outputs": [
    {
     "data": {
      "text/plain": [
       "dict_keys(['c1.weight', 'c1.bias', 'f1.weight', 'f1.bias', 'f2.weight', 'f2.bias'])"
      ]
     },
     "execution_count": 124,
     "metadata": {},
     "output_type": "execute_result"
    }
   ],
   "source": [
    "model5 = Model5()\n",
    "state5 = dict(model5.named_parameters())\n",
    "state5.keys()\n"
   ]
  },
  {
   "cell_type": "code",
   "execution_count": 141,
   "metadata": {},
   "outputs": [
    {
     "name": "stdout",
     "output_type": "stream",
     "text": [
      "True\n"
     ]
    }
   ],
   "source": [
    "##load parameter to another model with a translator dictionary\n",
    "\n",
    "params5 = model5.named_parameters()\n",
    "params4 = model4.named_parameters()\n",
    "\n",
    "dict_params5 = dict(params5)\n",
    "dict_params4 = dict(params4)\n",
    "\n",
    "\n",
    "translator = { \n",
    "    \"conv1.weight\" : \"c1.weight\",\n",
    "    \"conv1.bias\" : \"c1.bias\",\n",
    "    \"fcs.0.weight\" : \"f1.weight\",\n",
    "    \"fcs.0.bias\" : \"f1.bias\",\n",
    "    \"fcs.2.weight\" : \"f2.weight\",\n",
    "    \"fcs.2.bias\" : \"f2.bias\",\n",
    "}\n",
    "\n",
    "#for name4, param4 in params4:\n",
    "#    if name4 in translator:\n",
    "#        name5 = translator[name4]\n",
    "#        dict_params5[name5].data.copy_(param4.data)\n",
    "##OR\n",
    "for name4 in translator.keys():\n",
    "    name5 = translator[name4]\n",
    "    dict_params5[name5].data.copy_(dict_params4[name4].data)\n",
    "        \n",
    "        \n",
    "flag = True\n",
    "for key in translator.keys():\n",
    "    if not torch.equal(model5.state_dict()[translator[key]], model4.state_dict()[key]):\n",
    "        flag = False\n",
    "        \n",
    "print(str(flag))\n",
    "    \n",
    "        \n",
    "        "
   ]
  },
  {
   "cell_type": "code",
   "execution_count": 142,
   "metadata": {},
   "outputs": [
    {
     "name": "stdout",
     "output_type": "stream",
     "text": [
      "Model 4: 93.26\n",
      "Model 5: 93.26\n"
     ]
    }
   ],
   "source": [
    "#train(model4, optimizer4, criterion4, 1)\n",
    "\n",
    "print(\"Model 4: \" + str(compute_accuracy(model4)))\n",
    "print(\"Model 5: \" + str(compute_accuracy(model5)))"
   ]
  },
  {
   "cell_type": "code",
   "execution_count": 30,
   "metadata": {},
   "outputs": [
    {
     "name": "stdout",
     "output_type": "stream",
     "text": [
      "Epoch 0/19\n",
      "----------\n",
      "train Loss: 0.3409 Acc: 0.8919\n",
      "val Loss: 0.1636 Acc: 0.9490\n",
      "Epoch 1/19\n",
      "----------\n",
      "train Loss: 0.1279 Acc: 0.9612\n",
      "val Loss: 0.0910 Acc: 0.9722\n",
      "Epoch 2/19\n",
      "----------\n",
      "train Loss: 0.0863 Acc: 0.9743\n",
      "val Loss: 0.0761 Acc: 0.9780\n",
      "Epoch 3/19\n",
      "----------\n",
      "train Loss: 0.0657 Acc: 0.9794\n",
      "val Loss: 0.0702 Acc: 0.9775\n",
      "Epoch 4/19\n",
      "----------\n",
      "train Loss: 0.0530 Acc: 0.9844\n",
      "val Loss: 0.0700 Acc: 0.9787\n",
      "Epoch 5/19\n",
      "----------\n",
      "train Loss: 0.0434 Acc: 0.9868\n",
      "val Loss: 0.0765 Acc: 0.9769\n",
      "Epoch 6/19\n",
      "----------\n",
      "train Loss: 0.0364 Acc: 0.9883\n",
      "val Loss: 0.0613 Acc: 0.9815\n",
      "Epoch 7/19\n",
      "----------\n",
      "train Loss: 0.0311 Acc: 0.9903\n",
      "val Loss: 0.0775 Acc: 0.9782\n",
      "Epoch 8/19\n",
      "----------\n",
      "train Loss: 0.0266 Acc: 0.9911\n",
      "val Loss: 0.0627 Acc: 0.9829\n",
      "Epoch 9/19\n",
      "----------\n",
      "train Loss: 0.0241 Acc: 0.9919\n",
      "val Loss: 0.0667 Acc: 0.9822\n",
      "Epoch 10/19\n",
      "----------\n",
      "train Loss: 0.0210 Acc: 0.9931\n",
      "val Loss: 0.0745 Acc: 0.9806\n",
      "Epoch 11/19\n",
      "----------\n",
      "train Loss: 0.0185 Acc: 0.9942\n",
      "val Loss: 0.0752 Acc: 0.9824\n",
      "Epoch 12/19\n",
      "----------\n",
      "train Loss: 0.0175 Acc: 0.9941\n",
      "val Loss: 0.0778 Acc: 0.9826\n",
      "Epoch 13/19\n",
      "----------\n",
      "train Loss: 0.0154 Acc: 0.9953\n",
      "val Loss: 0.0927 Acc: 0.9797\n",
      "Epoch 14/19\n",
      "----------\n",
      "train Loss: 0.0144 Acc: 0.9951\n",
      "val Loss: 0.0921 Acc: 0.9793\n",
      "Epoch 15/19\n",
      "----------\n",
      "train Loss: 0.0130 Acc: 0.9955\n",
      "val Loss: 0.0947 Acc: 0.9813\n",
      "Epoch 16/19\n",
      "----------\n",
      "train Loss: 0.0107 Acc: 0.9965\n",
      "val Loss: 0.1094 Acc: 0.9816\n",
      "Epoch 17/19\n",
      "----------\n",
      "train Loss: 0.0115 Acc: 0.9961\n",
      "val Loss: 0.1103 Acc: 0.9793\n",
      "Epoch 18/19\n",
      "----------\n",
      "train Loss: 0.0102 Acc: 0.9967\n",
      "val Loss: 0.1215 Acc: 0.9800\n",
      "Epoch 19/19\n",
      "----------\n",
      "train Loss: 0.0095 Acc: 0.9969\n",
      "val Loss: 0.1204 Acc: 0.9800\n",
      "Training complete in 8m 2s\n"
     ]
    },
    {
     "ename": "RuntimeError",
     "evalue": "Expected object of type torch.FloatTensor but found type torch.cuda.FloatTensor for argument #2 'weight'",
     "output_type": "error",
     "traceback": [
      "\u001b[0;31m---------------------------------------------------------------------------\u001b[0m",
      "\u001b[0;31mRuntimeError\u001b[0m                              Traceback (most recent call last)",
      "\u001b[0;32m<ipython-input-30-a0f28fd6595b>\u001b[0m in \u001b[0;36m<module>\u001b[0;34m()\u001b[0m\n\u001b[1;32m      1\u001b[0m \u001b[0mtrain\u001b[0m\u001b[0;34m(\u001b[0m\u001b[0mmodel1\u001b[0m\u001b[0;34m,\u001b[0m \u001b[0moptimizer1\u001b[0m\u001b[0;34m,\u001b[0m \u001b[0mcriterion1\u001b[0m\u001b[0;34m,\u001b[0m \u001b[0;36m20\u001b[0m\u001b[0;34m)\u001b[0m \u001b[0;31m#TRAIN\u001b[0m\u001b[0;34m\u001b[0m\u001b[0m\n\u001b[0;32m----> 2\u001b[0;31m \u001b[0msample_result\u001b[0m\u001b[0;34m(\u001b[0m\u001b[0mmodel1\u001b[0m\u001b[0;34m)\u001b[0m\u001b[0;34m\u001b[0m\u001b[0m\n\u001b[0m",
      "\u001b[0;32m<ipython-input-20-098e4cf9783f>\u001b[0m in \u001b[0;36msample_result\u001b[0;34m(model)\u001b[0m\n\u001b[1;32m      3\u001b[0m     \u001b[0mimages\u001b[0m\u001b[0;34m,\u001b[0m \u001b[0mlabels\u001b[0m \u001b[0;34m=\u001b[0m \u001b[0mdataiter\u001b[0m\u001b[0;34m.\u001b[0m\u001b[0mnext\u001b[0m\u001b[0;34m(\u001b[0m\u001b[0;34m)\u001b[0m\u001b[0;34m\u001b[0m\u001b[0m\n\u001b[1;32m      4\u001b[0m \u001b[0;34m\u001b[0m\u001b[0m\n\u001b[0;32m----> 5\u001b[0;31m     \u001b[0moutput\u001b[0m \u001b[0;34m=\u001b[0m \u001b[0mmodel\u001b[0m\u001b[0;34m(\u001b[0m\u001b[0mimages\u001b[0m\u001b[0;34m)\u001b[0m\u001b[0;34m\u001b[0m\u001b[0m\n\u001b[0m\u001b[1;32m      6\u001b[0m     \u001b[0m_\u001b[0m\u001b[0;34m,\u001b[0m \u001b[0mpred\u001b[0m \u001b[0;34m=\u001b[0m \u001b[0mtorch\u001b[0m\u001b[0;34m.\u001b[0m\u001b[0mmax\u001b[0m\u001b[0;34m(\u001b[0m\u001b[0moutput\u001b[0m\u001b[0;34m,\u001b[0m \u001b[0;36m1\u001b[0m\u001b[0;34m)\u001b[0m\u001b[0;34m\u001b[0m\u001b[0m\n\u001b[1;32m      7\u001b[0m \u001b[0;34m\u001b[0m\u001b[0m\n",
      "\u001b[0;32m~/Develop/conda3/envs/MultiDomainLearning/lib/python3.6/site-packages/torch/nn/modules/module.py\u001b[0m in \u001b[0;36m__call__\u001b[0;34m(self, *input, **kwargs)\u001b[0m\n\u001b[1;32m    489\u001b[0m             \u001b[0mresult\u001b[0m \u001b[0;34m=\u001b[0m \u001b[0mself\u001b[0m\u001b[0;34m.\u001b[0m\u001b[0m_slow_forward\u001b[0m\u001b[0;34m(\u001b[0m\u001b[0;34m*\u001b[0m\u001b[0minput\u001b[0m\u001b[0;34m,\u001b[0m \u001b[0;34m**\u001b[0m\u001b[0mkwargs\u001b[0m\u001b[0;34m)\u001b[0m\u001b[0;34m\u001b[0m\u001b[0m\n\u001b[1;32m    490\u001b[0m         \u001b[0;32melse\u001b[0m\u001b[0;34m:\u001b[0m\u001b[0;34m\u001b[0m\u001b[0m\n\u001b[0;32m--> 491\u001b[0;31m             \u001b[0mresult\u001b[0m \u001b[0;34m=\u001b[0m \u001b[0mself\u001b[0m\u001b[0;34m.\u001b[0m\u001b[0mforward\u001b[0m\u001b[0;34m(\u001b[0m\u001b[0;34m*\u001b[0m\u001b[0minput\u001b[0m\u001b[0;34m,\u001b[0m \u001b[0;34m**\u001b[0m\u001b[0mkwargs\u001b[0m\u001b[0;34m)\u001b[0m\u001b[0;34m\u001b[0m\u001b[0m\n\u001b[0m\u001b[1;32m    492\u001b[0m         \u001b[0;32mfor\u001b[0m \u001b[0mhook\u001b[0m \u001b[0;32min\u001b[0m \u001b[0mself\u001b[0m\u001b[0;34m.\u001b[0m\u001b[0m_forward_hooks\u001b[0m\u001b[0;34m.\u001b[0m\u001b[0mvalues\u001b[0m\u001b[0;34m(\u001b[0m\u001b[0;34m)\u001b[0m\u001b[0;34m:\u001b[0m\u001b[0;34m\u001b[0m\u001b[0m\n\u001b[1;32m    493\u001b[0m             \u001b[0mhook_result\u001b[0m \u001b[0;34m=\u001b[0m \u001b[0mhook\u001b[0m\u001b[0;34m(\u001b[0m\u001b[0mself\u001b[0m\u001b[0;34m,\u001b[0m \u001b[0minput\u001b[0m\u001b[0;34m,\u001b[0m \u001b[0mresult\u001b[0m\u001b[0;34m)\u001b[0m\u001b[0;34m\u001b[0m\u001b[0m\n",
      "\u001b[0;32m<ipython-input-22-ea2548cb5500>\u001b[0m in \u001b[0;36mforward\u001b[0;34m(self, x)\u001b[0m\n\u001b[1;32m     10\u001b[0m     \u001b[0;32mdef\u001b[0m \u001b[0mforward\u001b[0m\u001b[0;34m(\u001b[0m\u001b[0mself\u001b[0m\u001b[0;34m,\u001b[0m \u001b[0mx\u001b[0m\u001b[0;34m)\u001b[0m\u001b[0;34m:\u001b[0m\u001b[0;34m\u001b[0m\u001b[0m\n\u001b[1;32m     11\u001b[0m         \u001b[0;31m#x = F.relu(self.conv1(x))\u001b[0m\u001b[0;34m\u001b[0m\u001b[0;34m\u001b[0m\u001b[0m\n\u001b[0;32m---> 12\u001b[0;31m         \u001b[0mx\u001b[0m \u001b[0;34m=\u001b[0m \u001b[0mF\u001b[0m\u001b[0;34m.\u001b[0m\u001b[0mmax_pool2d\u001b[0m\u001b[0;34m(\u001b[0m\u001b[0mF\u001b[0m\u001b[0;34m.\u001b[0m\u001b[0mrelu\u001b[0m\u001b[0;34m(\u001b[0m\u001b[0mself\u001b[0m\u001b[0;34m.\u001b[0m\u001b[0mconv1\u001b[0m\u001b[0;34m(\u001b[0m\u001b[0mx\u001b[0m\u001b[0;34m)\u001b[0m\u001b[0;34m)\u001b[0m\u001b[0;34m,\u001b[0m \u001b[0;36m2\u001b[0m\u001b[0;34m)\u001b[0m\u001b[0;34m\u001b[0m\u001b[0m\n\u001b[0m\u001b[1;32m     13\u001b[0m         \u001b[0mx\u001b[0m \u001b[0;34m=\u001b[0m \u001b[0mx\u001b[0m\u001b[0;34m.\u001b[0m\u001b[0mview\u001b[0m\u001b[0;34m(\u001b[0m\u001b[0;34m-\u001b[0m\u001b[0;36m1\u001b[0m\u001b[0;34m,\u001b[0m \u001b[0;36m14\u001b[0m\u001b[0;34m*\u001b[0m\u001b[0;36m14\u001b[0m\u001b[0;34m*\u001b[0m\u001b[0;36m10\u001b[0m\u001b[0;34m)\u001b[0m\u001b[0;34m\u001b[0m\u001b[0m\n\u001b[1;32m     14\u001b[0m         \u001b[0mx\u001b[0m \u001b[0;34m=\u001b[0m \u001b[0mF\u001b[0m\u001b[0;34m.\u001b[0m\u001b[0mrelu\u001b[0m\u001b[0;34m(\u001b[0m\u001b[0mself\u001b[0m\u001b[0;34m.\u001b[0m\u001b[0mfc1\u001b[0m\u001b[0;34m(\u001b[0m\u001b[0mx\u001b[0m\u001b[0;34m)\u001b[0m\u001b[0;34m)\u001b[0m\u001b[0;34m\u001b[0m\u001b[0m\n",
      "\u001b[0;32m~/Develop/conda3/envs/MultiDomainLearning/lib/python3.6/site-packages/torch/nn/modules/module.py\u001b[0m in \u001b[0;36m__call__\u001b[0;34m(self, *input, **kwargs)\u001b[0m\n\u001b[1;32m    489\u001b[0m             \u001b[0mresult\u001b[0m \u001b[0;34m=\u001b[0m \u001b[0mself\u001b[0m\u001b[0;34m.\u001b[0m\u001b[0m_slow_forward\u001b[0m\u001b[0;34m(\u001b[0m\u001b[0;34m*\u001b[0m\u001b[0minput\u001b[0m\u001b[0;34m,\u001b[0m \u001b[0;34m**\u001b[0m\u001b[0mkwargs\u001b[0m\u001b[0;34m)\u001b[0m\u001b[0;34m\u001b[0m\u001b[0m\n\u001b[1;32m    490\u001b[0m         \u001b[0;32melse\u001b[0m\u001b[0;34m:\u001b[0m\u001b[0;34m\u001b[0m\u001b[0m\n\u001b[0;32m--> 491\u001b[0;31m             \u001b[0mresult\u001b[0m \u001b[0;34m=\u001b[0m \u001b[0mself\u001b[0m\u001b[0;34m.\u001b[0m\u001b[0mforward\u001b[0m\u001b[0;34m(\u001b[0m\u001b[0;34m*\u001b[0m\u001b[0minput\u001b[0m\u001b[0;34m,\u001b[0m \u001b[0;34m**\u001b[0m\u001b[0mkwargs\u001b[0m\u001b[0;34m)\u001b[0m\u001b[0;34m\u001b[0m\u001b[0m\n\u001b[0m\u001b[1;32m    492\u001b[0m         \u001b[0;32mfor\u001b[0m \u001b[0mhook\u001b[0m \u001b[0;32min\u001b[0m \u001b[0mself\u001b[0m\u001b[0;34m.\u001b[0m\u001b[0m_forward_hooks\u001b[0m\u001b[0;34m.\u001b[0m\u001b[0mvalues\u001b[0m\u001b[0;34m(\u001b[0m\u001b[0;34m)\u001b[0m\u001b[0;34m:\u001b[0m\u001b[0;34m\u001b[0m\u001b[0m\n\u001b[1;32m    493\u001b[0m             \u001b[0mhook_result\u001b[0m \u001b[0;34m=\u001b[0m \u001b[0mhook\u001b[0m\u001b[0;34m(\u001b[0m\u001b[0mself\u001b[0m\u001b[0;34m,\u001b[0m \u001b[0minput\u001b[0m\u001b[0;34m,\u001b[0m \u001b[0mresult\u001b[0m\u001b[0;34m)\u001b[0m\u001b[0;34m\u001b[0m\u001b[0m\n",
      "\u001b[0;32m~/Develop/conda3/envs/MultiDomainLearning/lib/python3.6/site-packages/torch/nn/modules/conv.py\u001b[0m in \u001b[0;36mforward\u001b[0;34m(self, input)\u001b[0m\n\u001b[1;32m    299\u001b[0m     \u001b[0;32mdef\u001b[0m \u001b[0mforward\u001b[0m\u001b[0;34m(\u001b[0m\u001b[0mself\u001b[0m\u001b[0;34m,\u001b[0m \u001b[0minput\u001b[0m\u001b[0;34m)\u001b[0m\u001b[0;34m:\u001b[0m\u001b[0;34m\u001b[0m\u001b[0m\n\u001b[1;32m    300\u001b[0m         return F.conv2d(input, self.weight, self.bias, self.stride,\n\u001b[0;32m--> 301\u001b[0;31m                         self.padding, self.dilation, self.groups)\n\u001b[0m\u001b[1;32m    302\u001b[0m \u001b[0;34m\u001b[0m\u001b[0m\n\u001b[1;32m    303\u001b[0m \u001b[0;34m\u001b[0m\u001b[0m\n",
      "\u001b[0;31mRuntimeError\u001b[0m: Expected object of type torch.FloatTensor but found type torch.cuda.FloatTensor for argument #2 'weight'"
     ]
    }
   ],
   "source": [
    "train(model1, optimizer1, criterion1, 20) #TRAIN"
   ]
  },
  {
   "cell_type": "code",
   "execution_count": 41,
   "metadata": {},
   "outputs": [
    {
     "name": "stdout",
     "output_type": "stream",
     "text": [
      "Labels:  [8 0 0 1]\n",
      "Predic:  [8 0 0 1]\n"
     ]
    },
    {
     "data": {
      "image/png": "[encoded data removed]",
      "text/plain": [
       "<Figure size 432x288 with 1 Axes>"
      ]
     },
     "metadata": {},
     "output_type": "display_data"
    }
   ],
   "source": [
    "sample_result(model1) "
   ]
  },
  {
   "cell_type": "code",
   "execution_count": null,
   "metadata": {},
   "outputs": [],
   "source": []
  }
 ],
 "metadata": {
  "kernelspec": {
   "display_name": "Python 3",
   "language": "python",
   "name": "python3"
  },
  "language_info": {
   "codemirror_mode": {
    "name": "ipython",
    "version": 3
   },
   "file_extension": ".py",
   "mimetype": "text/x-python",
   "name": "python",
   "nbconvert_exporter": "python",
   "pygments_lexer": "ipython3",
   "version": "3.6.5"
  }
 },
 "nbformat": 4,
 "nbformat_minor": 2
}
